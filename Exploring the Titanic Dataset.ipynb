{
 "cells": [
  {
   "cell_type": "markdown",
   "metadata": {},
   "source": [
    "# Exploring the Titanic data set"
   ]
  },
  {
   "cell_type": "code",
   "execution_count": 1,
   "metadata": {},
   "outputs": [],
   "source": [
    "#Importing the libraries that are likely to be used \n",
    "import pandas as pd\n",
    "import numpy as np\n",
    "import os\n",
    "import matplotlib.pyplot as plt\n",
    "import seaborn as sns\n",
    "from sklearn import metrics\n",
    "%matplotlib inline\n"
   ]
  },
  {
   "cell_type": "code",
   "execution_count": 4,
   "metadata": {},
   "outputs": [
    {
     "name": "stdout",
     "output_type": "stream",
     "text": [
      "/Users/motun\n"
     ]
    }
   ],
   "source": [
    "print(os.getcwd()) #This is to get the current working directory."
   ]
  },
  {
   "cell_type": "code",
   "execution_count": 7,
   "metadata": {},
   "outputs": [
    {
     "name": "stdout",
     "output_type": "stream",
     "text": [
      "/Users/motun/Desktop/Python/Olympics_data/Data\n"
     ]
    }
   ],
   "source": [
    "%cd /Users/motun/Desktop/Python/Olympics_data/Data \n",
    "#This is to chnage the working directory to the folder that contains the Titanic data set in my computer\n",
    "# I tried using the os.chdir from the os module, but I use a mac and it did not seem to work. \n",
    "#So Stack overflow provided this option which worked perfectly. (Ps, restart the kernel to use this option)"
   ]
  },
  {
   "cell_type": "code",
   "execution_count": 8,
   "metadata": {},
   "outputs": [
    {
     "name": "stdout",
     "output_type": "stream",
     "text": [
      "/Users/motun/Desktop/Python/Olympics_data/Data\n"
     ]
    }
   ],
   "source": [
    "print(os.getcwd())\n",
    "#Printing the workign directory once more to be sure it has been changed"
   ]
  },
  {
   "cell_type": "code",
   "execution_count": 14,
   "metadata": {},
   "outputs": [],
   "source": [
    "events = pd.read_csv(\"athlete_events.csv\") \n",
    "regions = pd.read_csv(\"noc_regions.csv\")\n",
    "#These two have no output. Note that if your files are on a drive, you need to make sure they are downloaded \n",
    "#on the computer otherwise you will get an error"
   ]
  },
  {
   "cell_type": "markdown",
   "metadata": {},
   "source": [
    "#Now that the files are read, I will do a basic exploration of the data to understand the structure"
   ]
  },
  {
   "cell_type": "code",
   "execution_count": 16,
   "metadata": {},
   "outputs": [
    {
     "name": "stdout",
     "output_type": "stream",
     "text": [
      "<class 'pandas.core.frame.DataFrame'>\n",
      "RangeIndex: 271116 entries, 0 to 271115\n",
      "Data columns (total 15 columns):\n",
      " #   Column  Non-Null Count   Dtype  \n",
      "---  ------  --------------   -----  \n",
      " 0   ID      271116 non-null  int64  \n",
      " 1   Name    271116 non-null  object \n",
      " 2   Sex     271116 non-null  object \n",
      " 3   Age     261642 non-null  float64\n",
      " 4   Height  210945 non-null  float64\n",
      " 5   Weight  208241 non-null  float64\n",
      " 6   Team    271116 non-null  object \n",
      " 7   NOC     271116 non-null  object \n",
      " 8   Games   271116 non-null  object \n",
      " 9   Year    271116 non-null  int64  \n",
      " 10  Season  271116 non-null  object \n",
      " 11  City    271116 non-null  object \n",
      " 12  Sport   271116 non-null  object \n",
      " 13  Event   271116 non-null  object \n",
      " 14  Medal   39783 non-null   object \n",
      "dtypes: float64(3), int64(2), object(10)\n",
      "memory usage: 31.0+ MB\n",
      "None\n"
     ]
    }
   ],
   "source": [
    "print(events.info())\n",
    "#info gives a quick overview of the data set. number of columns, column names, data type, counts the number of nulls"
   ]
  },
  {
   "cell_type": "code",
   "execution_count": 17,
   "metadata": {},
   "outputs": [
    {
     "data": {
      "text/html": [
       "<div>\n",
       "<style scoped>\n",
       "    .dataframe tbody tr th:only-of-type {\n",
       "        vertical-align: middle;\n",
       "    }\n",
       "\n",
       "    .dataframe tbody tr th {\n",
       "        vertical-align: top;\n",
       "    }\n",
       "\n",
       "    .dataframe thead th {\n",
       "        text-align: right;\n",
       "    }\n",
       "</style>\n",
       "<table border=\"1\" class=\"dataframe\">\n",
       "  <thead>\n",
       "    <tr style=\"text-align: right;\">\n",
       "      <th></th>\n",
       "      <th>ID</th>\n",
       "      <th>Age</th>\n",
       "      <th>Height</th>\n",
       "      <th>Weight</th>\n",
       "      <th>Year</th>\n",
       "    </tr>\n",
       "  </thead>\n",
       "  <tbody>\n",
       "    <tr>\n",
       "      <th>count</th>\n",
       "      <td>271116.000000</td>\n",
       "      <td>261642.000000</td>\n",
       "      <td>210945.000000</td>\n",
       "      <td>208241.000000</td>\n",
       "      <td>271116.000000</td>\n",
       "    </tr>\n",
       "    <tr>\n",
       "      <th>mean</th>\n",
       "      <td>68248.954396</td>\n",
       "      <td>25.556898</td>\n",
       "      <td>175.338970</td>\n",
       "      <td>70.702393</td>\n",
       "      <td>1978.378480</td>\n",
       "    </tr>\n",
       "    <tr>\n",
       "      <th>std</th>\n",
       "      <td>39022.286345</td>\n",
       "      <td>6.393561</td>\n",
       "      <td>10.518462</td>\n",
       "      <td>14.348020</td>\n",
       "      <td>29.877632</td>\n",
       "    </tr>\n",
       "    <tr>\n",
       "      <th>min</th>\n",
       "      <td>1.000000</td>\n",
       "      <td>10.000000</td>\n",
       "      <td>127.000000</td>\n",
       "      <td>25.000000</td>\n",
       "      <td>1896.000000</td>\n",
       "    </tr>\n",
       "    <tr>\n",
       "      <th>25%</th>\n",
       "      <td>34643.000000</td>\n",
       "      <td>21.000000</td>\n",
       "      <td>168.000000</td>\n",
       "      <td>60.000000</td>\n",
       "      <td>1960.000000</td>\n",
       "    </tr>\n",
       "    <tr>\n",
       "      <th>50%</th>\n",
       "      <td>68205.000000</td>\n",
       "      <td>24.000000</td>\n",
       "      <td>175.000000</td>\n",
       "      <td>70.000000</td>\n",
       "      <td>1988.000000</td>\n",
       "    </tr>\n",
       "    <tr>\n",
       "      <th>75%</th>\n",
       "      <td>102097.250000</td>\n",
       "      <td>28.000000</td>\n",
       "      <td>183.000000</td>\n",
       "      <td>79.000000</td>\n",
       "      <td>2002.000000</td>\n",
       "    </tr>\n",
       "    <tr>\n",
       "      <th>max</th>\n",
       "      <td>135571.000000</td>\n",
       "      <td>97.000000</td>\n",
       "      <td>226.000000</td>\n",
       "      <td>214.000000</td>\n",
       "      <td>2016.000000</td>\n",
       "    </tr>\n",
       "  </tbody>\n",
       "</table>\n",
       "</div>"
      ],
      "text/plain": [
       "                  ID            Age         Height         Weight  \\\n",
       "count  271116.000000  261642.000000  210945.000000  208241.000000   \n",
       "mean    68248.954396      25.556898     175.338970      70.702393   \n",
       "std     39022.286345       6.393561      10.518462      14.348020   \n",
       "min         1.000000      10.000000     127.000000      25.000000   \n",
       "25%     34643.000000      21.000000     168.000000      60.000000   \n",
       "50%     68205.000000      24.000000     175.000000      70.000000   \n",
       "75%    102097.250000      28.000000     183.000000      79.000000   \n",
       "max    135571.000000      97.000000     226.000000     214.000000   \n",
       "\n",
       "                Year  \n",
       "count  271116.000000  \n",
       "mean     1978.378480  \n",
       "std        29.877632  \n",
       "min      1896.000000  \n",
       "25%      1960.000000  \n",
       "50%      1988.000000  \n",
       "75%      2002.000000  \n",
       "max      2016.000000  "
      ]
     },
     "execution_count": 17,
     "metadata": {},
     "output_type": "execute_result"
    }
   ],
   "source": [
    "events.describe()\n",
    "#.describe however gives a statistical summary of the data. mean, standard deviation, max, min"
   ]
  },
  {
   "cell_type": "code",
   "execution_count": 18,
   "metadata": {},
   "outputs": [],
   "source": [
    "#You might wonder why the above summary is necessary. I can already see there are 271116 records, but only \n",
    "#261642 age record. Its likely that some people's ages are missing. same for height and weight. Year seems ok \n",
    "# The minimum age is 10 and someone participated at 97 years old!!! Avg age is about 26\n",
    "# A standard deviation of 6 tells me 95% of the participants are age 14 to 38. assuming the distribution is normal"
   ]
  },
  {
   "cell_type": "code",
   "execution_count": 27,
   "metadata": {},
   "outputs": [
    {
     "name": "stdout",
     "output_type": "stream",
     "text": [
      "            ID                                           Name Sex   Age  \\\n",
      "5224      2962                                  Zsuzsa Almssy   F  13.0   \n",
      "7500      4191  Tojohanitra Tokin'aina Andriamanjatoarimanana   F  13.0   \n",
      "9648      5291                        Marcia Arriaga Larrinua   F  12.0   \n",
      "9649      5291                        Marcia Arriaga Larrinua   F  12.0   \n",
      "9650      5291                        Marcia Arriaga Larrinua   F  12.0   \n",
      "...        ...                                            ...  ..   ...   \n",
      "265497  132855                        Wei Ling \"Joscelin\" Yeo   F  13.0   \n",
      "265498  132855                        Wei Ling \"Joscelin\" Yeo   F  13.0   \n",
      "265499  132855                        Wei Ling \"Joscelin\" Yeo   F  13.0   \n",
      "265800  132998                            Yip Tsz Wa \"Yvonne\"   F  13.0   \n",
      "268602  134381                                    Klaus Zerta   M  13.0   \n",
      "\n",
      "        Height  Weight        Team  NOC        Games  Year  Season  \\\n",
      "5224     158.0    60.0     Hungary  HUN  1964 Winter  1964  Winter   \n",
      "7500     140.0    52.5  Madagascar  MAD  2004 Summer  2004  Summer   \n",
      "9648     168.0    58.0      Mexico  MEX  1968 Summer  1968  Summer   \n",
      "9649     168.0    58.0      Mexico  MEX  1968 Summer  1968  Summer   \n",
      "9650     168.0    58.0      Mexico  MEX  1968 Summer  1968  Summer   \n",
      "...        ...     ...         ...  ...          ...   ...     ...   \n",
      "265497   165.0    56.0   Singapore  SGP  1992 Summer  1992  Summer   \n",
      "265498   165.0    56.0   Singapore  SGP  1992 Summer  1992  Summer   \n",
      "265499   165.0    56.0   Singapore  SGP  1992 Summer  1992  Summer   \n",
      "265800   157.0    47.0   Hong Kong  HKG  2004 Summer  2004  Summer   \n",
      "268602   165.0    48.0     Germany  GER  1960 Summer  1960  Summer   \n",
      "\n",
      "               City           Sport  \\\n",
      "5224      Innsbruck  Figure Skating   \n",
      "7500         Athina        Swimming   \n",
      "9648    Mexico City        Swimming   \n",
      "9649    Mexico City        Swimming   \n",
      "9650    Mexico City        Swimming   \n",
      "...             ...             ...   \n",
      "265497    Barcelona        Swimming   \n",
      "265498    Barcelona        Swimming   \n",
      "265499    Barcelona        Swimming   \n",
      "265800       Athina        Swimming   \n",
      "268602         Roma          Rowing   \n",
      "\n",
      "                                                  Event Medal  \n",
      "5224                     Figure Skating Women's Singles   NaN  \n",
      "7500               Swimming Women's 50 metres Freestyle   NaN  \n",
      "9648              Swimming Women's 100 metres Freestyle   NaN  \n",
      "9649              Swimming Women's 200 metres Freestyle   NaN  \n",
      "9650    Swimming Women's 4 x 100 metres Freestyle Relay   NaN  \n",
      "...                                                 ...   ...  \n",
      "265497            Swimming Women's 400 metres Freestyle   NaN  \n",
      "265498            Swimming Women's 100 metres Butterfly   NaN  \n",
      "265499    Swimming Women's 200 metres Individual Medley   NaN  \n",
      "265800         Swimming Women's 100 metres Breaststroke   NaN  \n",
      "268602                         Rowing Men's Coxed Pairs  Gold  \n",
      "\n",
      "[240 rows x 15 columns]\n"
     ]
    },
    {
     "data": {
      "text/html": [
       "<div>\n",
       "<style scoped>\n",
       "    .dataframe tbody tr th:only-of-type {\n",
       "        vertical-align: middle;\n",
       "    }\n",
       "\n",
       "    .dataframe tbody tr th {\n",
       "        vertical-align: top;\n",
       "    }\n",
       "\n",
       "    .dataframe thead th {\n",
       "        text-align: right;\n",
       "    }\n",
       "</style>\n",
       "<table border=\"1\" class=\"dataframe\">\n",
       "  <thead>\n",
       "    <tr style=\"text-align: right;\">\n",
       "      <th></th>\n",
       "      <th>ID</th>\n",
       "      <th>Age</th>\n",
       "      <th>Height</th>\n",
       "      <th>Weight</th>\n",
       "      <th>Year</th>\n",
       "    </tr>\n",
       "  </thead>\n",
       "  <tbody>\n",
       "    <tr>\n",
       "      <th>count</th>\n",
       "      <td>240.000000</td>\n",
       "      <td>240.000000</td>\n",
       "      <td>201.000000</td>\n",
       "      <td>196.000000</td>\n",
       "      <td>240.000000</td>\n",
       "    </tr>\n",
       "    <tr>\n",
       "      <th>mean</th>\n",
       "      <td>62889.445833</td>\n",
       "      <td>12.716667</td>\n",
       "      <td>161.109453</td>\n",
       "      <td>50.512755</td>\n",
       "      <td>1970.491667</td>\n",
       "    </tr>\n",
       "    <tr>\n",
       "      <th>std</th>\n",
       "      <td>38023.306476</td>\n",
       "      <td>0.581203</td>\n",
       "      <td>8.586499</td>\n",
       "      <td>9.372277</td>\n",
       "      <td>22.050720</td>\n",
       "    </tr>\n",
       "    <tr>\n",
       "      <th>min</th>\n",
       "      <td>2962.000000</td>\n",
       "      <td>10.000000</td>\n",
       "      <td>137.000000</td>\n",
       "      <td>28.000000</td>\n",
       "      <td>1896.000000</td>\n",
       "    </tr>\n",
       "    <tr>\n",
       "      <th>25%</th>\n",
       "      <td>28734.500000</td>\n",
       "      <td>13.000000</td>\n",
       "      <td>155.000000</td>\n",
       "      <td>45.750000</td>\n",
       "      <td>1964.000000</td>\n",
       "    </tr>\n",
       "    <tr>\n",
       "      <th>50%</th>\n",
       "      <td>55553.000000</td>\n",
       "      <td>13.000000</td>\n",
       "      <td>162.000000</td>\n",
       "      <td>50.000000</td>\n",
       "      <td>1974.000000</td>\n",
       "    </tr>\n",
       "    <tr>\n",
       "      <th>75%</th>\n",
       "      <td>95801.000000</td>\n",
       "      <td>13.000000</td>\n",
       "      <td>168.000000</td>\n",
       "      <td>56.000000</td>\n",
       "      <td>1984.000000</td>\n",
       "    </tr>\n",
       "    <tr>\n",
       "      <th>max</th>\n",
       "      <td>134381.000000</td>\n",
       "      <td>13.000000</td>\n",
       "      <td>183.000000</td>\n",
       "      <td>80.000000</td>\n",
       "      <td>2016.000000</td>\n",
       "    </tr>\n",
       "  </tbody>\n",
       "</table>\n",
       "</div>"
      ],
      "text/plain": [
       "                  ID         Age      Height      Weight         Year\n",
       "count     240.000000  240.000000  201.000000  196.000000   240.000000\n",
       "mean    62889.445833   12.716667  161.109453   50.512755  1970.491667\n",
       "std     38023.306476    0.581203    8.586499    9.372277    22.050720\n",
       "min      2962.000000   10.000000  137.000000   28.000000  1896.000000\n",
       "25%     28734.500000   13.000000  155.000000   45.750000  1964.000000\n",
       "50%     55553.000000   13.000000  162.000000   50.000000  1974.000000\n",
       "75%     95801.000000   13.000000  168.000000   56.000000  1984.000000\n",
       "max    134381.000000   13.000000  183.000000   80.000000  2016.000000"
      ]
     },
     "execution_count": 27,
     "metadata": {},
     "output_type": "execute_result"
    }
   ],
   "source": [
    "#I am curious to find out the number of participants below 14 years of age \n",
    "age_below_14 = events[(events['Age'] < 14)]\n",
    "print(age_below_14)\n",
    "age_below_14.describe()"
   ]
  },
  {
   "cell_type": "code",
   "execution_count": 28,
   "metadata": {},
   "outputs": [],
   "source": [
    "#There are only 240 people below age 14 who have participated in the olympics between 1896 and 2016"
   ]
  },
  {
   "cell_type": "code",
   "execution_count": 30,
   "metadata": {},
   "outputs": [
    {
     "name": "stdout",
     "output_type": "stream",
     "text": [
      "            ID                                       Name Sex   Age  Height  \\\n",
      "2392      1337                               Olof Ahlberg   M  71.0     NaN   \n",
      "7433      4160                         Robert Day Andrews   M  75.0     NaN   \n",
      "9371      5146                      George Denholm Armour   M  84.0     NaN   \n",
      "11011     6016      Winifred Marie Louise Austen (-Frick)   F  72.0     NaN   \n",
      "11012     6016      Winifred Marie Louise Austen (-Frick)   F  72.0     NaN   \n",
      "...        ...                                        ...  ..   ...     ...   \n",
      "253306  126841                       Konstantns Visotskis   M  72.0     NaN   \n",
      "254475  127395  Arthur von Pongracz de Szent-Mikls und vr   M  72.0     NaN   \n",
      "254476  127395  Arthur von Pongracz de Szent-Mikls und vr   M  72.0     NaN   \n",
      "257054  128719                     John Quincy Adams Ward   M  97.0     NaN   \n",
      "260799  130491                   Thomas William Wilkinson   M  72.0     NaN   \n",
      "\n",
      "        Weight           Team  NOC        Games  Year  Season         City  \\\n",
      "2392       NaN         Sweden  SWE  1948 Summer  1948  Summer       London   \n",
      "7433       NaN  United States  USA  1932 Summer  1932  Summer  Los Angeles   \n",
      "9371       NaN  Great Britain  GBR  1948 Summer  1948  Summer       London   \n",
      "11011      NaN  Great Britain  GBR  1948 Summer  1948  Summer       London   \n",
      "11012      NaN  Great Britain  GBR  1948 Summer  1948  Summer       London   \n",
      "...        ...            ...  ...          ...   ...     ...          ...   \n",
      "253306     NaN         Latvia  LAT  1936 Summer  1936  Summer       Berlin   \n",
      "254475     NaN        Austria  AUT  1936 Summer  1936  Summer       Berlin   \n",
      "254476     NaN        Austria  AUT  1936 Summer  1936  Summer       Berlin   \n",
      "257054     NaN  United States  USA  1928 Summer  1928  Summer    Amsterdam   \n",
      "260799     NaN  Great Britain  GBR  1948 Summer  1948  Summer       London   \n",
      "\n",
      "                   Sport                                              Event  \\\n",
      "2392    Art Competitions     Art Competitions Mixed Painting, Unknown Event   \n",
      "7433    Art Competitions  Art Competitions Mixed Architecture, Unknown E...   \n",
      "9371    Art Competitions     Art Competitions Mixed Painting, Unknown Event   \n",
      "11011   Art Competitions      Art Competitions Mixed Painting, Graphic Arts   \n",
      "11012   Art Competitions     Art Competitions Mixed Painting, Unknown Event   \n",
      "...                  ...                                                ...   \n",
      "253306  Art Competitions         Art Competitions Mixed Painting, Paintings   \n",
      "254475     Equestrianism           Equestrianism Men's Dressage, Individual   \n",
      "254476     Equestrianism                 Equestrianism Men's Dressage, Team   \n",
      "257054  Art Competitions        Art Competitions Mixed Sculpturing, Statues   \n",
      "260799  Art Competitions  Art Competitions Mixed Sculpturing, Medals And...   \n",
      "\n",
      "       Medal  \n",
      "2392     NaN  \n",
      "7433     NaN  \n",
      "9371     NaN  \n",
      "11011    NaN  \n",
      "11012    NaN  \n",
      "...      ...  \n",
      "253306   NaN  \n",
      "254475   NaN  \n",
      "254476   NaN  \n",
      "257054   NaN  \n",
      "260799   NaN  \n",
      "\n",
      "[101 rows x 15 columns]\n"
     ]
    },
    {
     "data": {
      "text/html": [
       "<div>\n",
       "<style scoped>\n",
       "    .dataframe tbody tr th:only-of-type {\n",
       "        vertical-align: middle;\n",
       "    }\n",
       "\n",
       "    .dataframe tbody tr th {\n",
       "        vertical-align: top;\n",
       "    }\n",
       "\n",
       "    .dataframe thead th {\n",
       "        text-align: right;\n",
       "    }\n",
       "</style>\n",
       "<table border=\"1\" class=\"dataframe\">\n",
       "  <thead>\n",
       "    <tr style=\"text-align: right;\">\n",
       "      <th></th>\n",
       "      <th>ID</th>\n",
       "      <th>Age</th>\n",
       "      <th>Height</th>\n",
       "      <th>Weight</th>\n",
       "      <th>Year</th>\n",
       "    </tr>\n",
       "  </thead>\n",
       "  <tbody>\n",
       "    <tr>\n",
       "      <th>count</th>\n",
       "      <td>101.000000</td>\n",
       "      <td>101.000000</td>\n",
       "      <td>2.0</td>\n",
       "      <td>1.0</td>\n",
       "      <td>101.000000</td>\n",
       "    </tr>\n",
       "    <tr>\n",
       "      <th>mean</th>\n",
       "      <td>63477.801980</td>\n",
       "      <td>73.980198</td>\n",
       "      <td>168.0</td>\n",
       "      <td>62.0</td>\n",
       "      <td>1932.277228</td>\n",
       "    </tr>\n",
       "    <tr>\n",
       "      <th>std</th>\n",
       "      <td>37220.072481</td>\n",
       "      <td>4.855883</td>\n",
       "      <td>0.0</td>\n",
       "      <td>NaN</td>\n",
       "      <td>14.513524</td>\n",
       "    </tr>\n",
       "    <tr>\n",
       "      <th>min</th>\n",
       "      <td>1337.000000</td>\n",
       "      <td>71.000000</td>\n",
       "      <td>168.0</td>\n",
       "      <td>62.0</td>\n",
       "      <td>1900.000000</td>\n",
       "    </tr>\n",
       "    <tr>\n",
       "      <th>25%</th>\n",
       "      <td>30731.000000</td>\n",
       "      <td>71.000000</td>\n",
       "      <td>168.0</td>\n",
       "      <td>62.0</td>\n",
       "      <td>1924.000000</td>\n",
       "    </tr>\n",
       "    <tr>\n",
       "      <th>50%</th>\n",
       "      <td>67219.000000</td>\n",
       "      <td>72.000000</td>\n",
       "      <td>168.0</td>\n",
       "      <td>62.0</td>\n",
       "      <td>1932.000000</td>\n",
       "    </tr>\n",
       "    <tr>\n",
       "      <th>75%</th>\n",
       "      <td>96102.000000</td>\n",
       "      <td>74.000000</td>\n",
       "      <td>168.0</td>\n",
       "      <td>62.0</td>\n",
       "      <td>1936.000000</td>\n",
       "    </tr>\n",
       "    <tr>\n",
       "      <th>max</th>\n",
       "      <td>130491.000000</td>\n",
       "      <td>97.000000</td>\n",
       "      <td>168.0</td>\n",
       "      <td>62.0</td>\n",
       "      <td>2012.000000</td>\n",
       "    </tr>\n",
       "  </tbody>\n",
       "</table>\n",
       "</div>"
      ],
      "text/plain": [
       "                  ID         Age  Height  Weight         Year\n",
       "count     101.000000  101.000000     2.0     1.0   101.000000\n",
       "mean    63477.801980   73.980198   168.0    62.0  1932.277228\n",
       "std     37220.072481    4.855883     0.0     NaN    14.513524\n",
       "min      1337.000000   71.000000   168.0    62.0  1900.000000\n",
       "25%     30731.000000   71.000000   168.0    62.0  1924.000000\n",
       "50%     67219.000000   72.000000   168.0    62.0  1932.000000\n",
       "75%     96102.000000   74.000000   168.0    62.0  1936.000000\n",
       "max    130491.000000   97.000000   168.0    62.0  2012.000000"
      ]
     },
     "execution_count": 30,
     "metadata": {},
     "output_type": "execute_result"
    }
   ],
   "source": [
    "age_above_70 = events[(events['Age'] > 70)]\n",
    "print(age_above_70)\n",
    "age_above_70.describe()"
   ]
  },
  {
   "cell_type": "code",
   "execution_count": 31,
   "metadata": {},
   "outputs": [],
   "source": [
    " #I initially decided on 38 as the higher extreme, but realised there were over 10,000 participants in that age\n",
    "# So I intuitively decided 70 was more of a higher extreme age with only 101 people."
   ]
  },
  {
   "cell_type": "code",
   "execution_count": 32,
   "metadata": {},
   "outputs": [],
   "source": [
    "#Now I want to see which sports are common for the two age extreme. Do certain sport types allow for extrem ages"
   ]
  },
  {
   "cell_type": "code",
   "execution_count": 35,
   "metadata": {},
   "outputs": [
    {
     "data": {
      "text/plain": [
       "Swimming                     135\n",
       "Gymnastics                    41\n",
       "Figure Skating                26\n",
       "Rowing                        17\n",
       "Diving                        10\n",
       "Athletics                      4\n",
       "Speed Skating                  2\n",
       "Tennis                         1\n",
       "Sailing                        1\n",
       "Rhythmic Gymnastics            1\n",
       "Freestyle Skiing               1\n",
       "Short Track Speed Skating      1\n",
       "Name: Sport, dtype: int64"
      ]
     },
     "execution_count": 35,
     "metadata": {},
     "output_type": "execute_result"
    }
   ],
   "source": [
    "\n",
    "age_below_14['Sport'].value_counts()"
   ]
  },
  {
   "cell_type": "code",
   "execution_count": null,
   "metadata": {},
   "outputs": [],
   "source": [
    "#Swimming is the most popular sport for participants below 14 years."
   ]
  },
  {
   "cell_type": "code",
   "execution_count": 36,
   "metadata": {},
   "outputs": [
    {
     "data": {
      "text/plain": [
       "Art Competitions    87\n",
       "Sailing              6\n",
       "Equestrianism        3\n",
       "Shooting             3\n",
       "Archery              2\n",
       "Name: Sport, dtype: int64"
      ]
     },
     "execution_count": 36,
     "metadata": {},
     "output_type": "execute_result"
    }
   ],
   "source": [
    "age_above_70['Sport'].value_counts()"
   ]
  },
  {
   "cell_type": "code",
   "execution_count": 37,
   "metadata": {},
   "outputs": [],
   "source": [
    "#Turns out most people did art competitions and sailing after 70. "
   ]
  },
  {
   "cell_type": "code",
   "execution_count": 38,
   "metadata": {},
   "outputs": [],
   "source": [
    "#Overall, what is the most common sport in the olympics? "
   ]
  },
  {
   "cell_type": "code",
   "execution_count": 39,
   "metadata": {},
   "outputs": [
    {
     "data": {
      "text/plain": [
       "Athletics        38624\n",
       "Gymnastics       26707\n",
       "Swimming         23195\n",
       "Shooting         11448\n",
       "Cycling          10859\n",
       "                 ...  \n",
       "Racquets            12\n",
       "Jeu De Paume        11\n",
       "Roque                4\n",
       "Basque Pelota        2\n",
       "Aeronautics          1\n",
       "Name: Sport, Length: 66, dtype: int64"
      ]
     },
     "execution_count": 39,
     "metadata": {},
     "output_type": "execute_result"
    }
   ],
   "source": [
    "events['Sport'].value_counts()"
   ]
  },
  {
   "cell_type": "code",
   "execution_count": 40,
   "metadata": {},
   "outputs": [],
   "source": [
    "#Is there a correlation between age and the type of sport?"
   ]
  },
  {
   "cell_type": "code",
   "execution_count": 61,
   "metadata": {},
   "outputs": [
    {
     "name": "stdout",
     "output_type": "stream",
     "text": [
      "Sport  Aeronautics  Alpine Skiing  Alpinism  Archery  Art Competitions  \\\n",
      "Age                                                                      \n",
      "10.0           NaN            NaN       NaN      NaN               NaN   \n",
      "11.0           NaN            NaN       NaN      NaN               NaN   \n",
      "12.0           NaN            NaN       NaN      NaN               NaN   \n",
      "13.0           NaN            NaN       NaN      NaN               NaN   \n",
      "14.0           NaN           12.0       NaN      3.0               4.0   \n",
      "...            ...            ...       ...      ...               ...   \n",
      "81.0           NaN            NaN       NaN      NaN               2.0   \n",
      "84.0           NaN            NaN       NaN      NaN               1.0   \n",
      "88.0           NaN            NaN       NaN      NaN               3.0   \n",
      "96.0           NaN            NaN       NaN      NaN               1.0   \n",
      "97.0           NaN            NaN       NaN      NaN               1.0   \n",
      "\n",
      "Sport  Athletics  Badminton  Baseball  Basketball  Basque Pelota  ...  \\\n",
      "Age                                                               ...   \n",
      "10.0         NaN        NaN       NaN         NaN            NaN  ...   \n",
      "11.0         NaN        NaN       NaN         NaN            NaN  ...   \n",
      "12.0         2.0        NaN       NaN         NaN            NaN  ...   \n",
      "13.0         2.0        NaN       NaN         NaN            NaN  ...   \n",
      "14.0         6.0        NaN       NaN         NaN            NaN  ...   \n",
      "...          ...        ...       ...         ...            ...  ...   \n",
      "81.0         NaN        NaN       NaN         NaN            NaN  ...   \n",
      "84.0         NaN        NaN       NaN         NaN            NaN  ...   \n",
      "88.0         NaN        NaN       NaN         NaN            NaN  ...   \n",
      "96.0         NaN        NaN       NaN         NaN            NaN  ...   \n",
      "97.0         NaN        NaN       NaN         NaN            NaN  ...   \n",
      "\n",
      "Sport  Table Tennis  Taekwondo  Tennis  Trampolining  Triathlon  Tug-Of-War  \\\n",
      "Age                                                                           \n",
      "10.0            NaN        NaN     NaN           NaN        NaN         NaN   \n",
      "11.0            NaN        NaN     NaN           NaN        NaN         NaN   \n",
      "12.0            NaN        NaN     NaN           NaN        NaN         NaN   \n",
      "13.0            NaN        NaN     1.0           NaN        NaN         NaN   \n",
      "14.0            NaN        NaN     2.0           NaN        NaN         NaN   \n",
      "...             ...        ...     ...           ...        ...         ...   \n",
      "81.0            NaN        NaN     NaN           NaN        NaN         NaN   \n",
      "84.0            NaN        NaN     NaN           NaN        NaN         NaN   \n",
      "88.0            NaN        NaN     NaN           NaN        NaN         NaN   \n",
      "96.0            NaN        NaN     NaN           NaN        NaN         NaN   \n",
      "97.0            NaN        NaN     NaN           NaN        NaN         NaN   \n",
      "\n",
      "Sport  Volleyball  Water Polo  Weightlifting  Wrestling  \n",
      "Age                                                      \n",
      "10.0          NaN         NaN            NaN        NaN  \n",
      "11.0          NaN         NaN            NaN        NaN  \n",
      "12.0          NaN         NaN            NaN        NaN  \n",
      "13.0          NaN         NaN            NaN        NaN  \n",
      "14.0          NaN         1.0            NaN        NaN  \n",
      "...           ...         ...            ...        ...  \n",
      "81.0          NaN         NaN            NaN        NaN  \n",
      "84.0          NaN         NaN            NaN        NaN  \n",
      "88.0          NaN         NaN            NaN        NaN  \n",
      "96.0          NaN         NaN            NaN        NaN  \n",
      "97.0          NaN         NaN            NaN        NaN  \n",
      "\n",
      "[74 rows x 66 columns]\n"
     ]
    }
   ],
   "source": [
    "heatmap_data = pd.pivot_table(events, \n",
    "                             values= 'ID',\n",
    "                             index = \"Age\",\n",
    "                             columns = \"Sport\",\n",
    "                             aggfunc = \"count\")\n",
    "print(heatmap_data)"
   ]
  },
  {
   "cell_type": "code",
   "execution_count": 72,
   "metadata": {},
   "outputs": [
    {
     "data": {
      "image/png": "[encoded data removed]",
      "text/plain": [
       "<Figure size 1152x864 with 2 Axes>"
      ]
     },
     "metadata": {},
     "output_type": "display_data"
    }
   ],
   "source": [
    "fig, ax = plt.subplots(figsize = (16,12))\n",
    "heatmap_chart = sns.heatmap(heatmap_data, linewidths = 0.05)"
   ]
  },
  {
   "cell_type": "code",
   "execution_count": null,
   "metadata": {},
   "outputs": [],
   "source": [
    "#Athletics, Gymnastics and swimming are th emost common sports in the Olympics. Hihglighted in red above. \n",
    "#The highest age range is in Arts competition, Archery, Equestrianism and shooting. "
   ]
  }
 ],
 "metadata": {
  "kernelspec": {
   "display_name": "Python 3",
   "language": "python",
   "name": "python3"
  },
  "language_info": {
   "codemirror_mode": {
    "name": "ipython",
    "version": 3
   },
   "file_extension": ".py",
   "mimetype": "text/x-python",
   "name": "python",
   "nbconvert_exporter": "python",
   "pygments_lexer": "ipython3",
   "version": "3.6.8"
  }
 },
 "nbformat": 4,
 "nbformat_minor": 2
}
